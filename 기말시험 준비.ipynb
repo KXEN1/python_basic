{
 "cells": [
  {
   "cell_type": "code",
   "execution_count": 14,
   "id": "eb0d61e5-adf4-4b84-97db-72dbf9070f37",
   "metadata": {},
   "outputs": [
    {
     "name": "stdout",
     "output_type": "stream",
     "text": [
      "  CustomerID Product  Quantity\n",
      "0         C1       A        10\n",
      "1         C2       B        15\n",
      "2         C3       A        10\n",
      "3         C4       B        20\n"
     ]
    }
   ],
   "source": [
    "# 2번 문제\n",
    "import pandas as pd\n",
    "\n",
    "# 데이터 생성\n",
    "data = {\n",
    "    'CustomerID': ['C1', 'C2', 'C3', 'C4'],\n",
    "    'Product': ['A', 'B', 'A', 'B'],\n",
    "    'Quantity': [10, 15, 10, 20]\n",
    "}\n",
    "\n",
    "df = pd.DataFrame(data)\n",
    "print(df)\n"
   ]
  },
  {
   "cell_type": "code",
   "execution_count": 15,
   "id": "983c2077-cd77-4c24-aa3f-b6772ec3d965",
   "metadata": {},
   "outputs": [
    {
     "name": "stdout",
     "output_type": "stream",
     "text": [
      "         Quantity\n",
      "Product          \n",
      "A              20\n",
      "B              35\n"
     ]
    }
   ],
   "source": [
    "# 2-(1) 피벗 테이블을 사용하여 각 제품별 총 수량 계산\n",
    "pivot_df = pd.pivot_table(df, \n",
    "                          index='Product', \n",
    "                          values='Quantity', \n",
    "                          aggfunc='sum')\n",
    "print(pivot_df)"
   ]
  },
  {
   "cell_type": "code",
   "execution_count": 16,
   "id": "16e79f20-dd95-496b-a050-edb6858dcf0a",
   "metadata": {},
   "outputs": [
    {
     "name": "stdout",
     "output_type": "stream",
     "text": [
      "Product        A     B\n",
      "CustomerID            \n",
      "C1          10.0   NaN\n",
      "C2           NaN  15.0\n",
      "C3          10.0   NaN\n",
      "C4           NaN  20.0\n"
     ]
    }
   ],
   "source": [
    "# 2-(2) 피벗 테이블을 사용하여 각 고객이 구매한 제품별 총 수량 계산\n",
    "pivot_df = pd.pivot_table(df, \n",
    "                          index='CustomerID', \n",
    "                          columns='Product', \n",
    "                          values='Quantity', \n",
    "                          aggfunc='sum')\n",
    "print(pivot_df)\n"
   ]
  },
  {
   "cell_type": "code",
   "execution_count": 17,
   "id": "6693fb1f-94ed-487c-8f28-d29bf7bd718e",
   "metadata": {},
   "outputs": [
    {
     "name": "stdout",
     "output_type": "stream",
     "text": [
      "  Product  Quantity\n",
      "0       A      10.0\n",
      "1       B      17.5\n"
     ]
    }
   ],
   "source": [
    "# 2-(3) 피벗 테이블을 사용하여 각 제품별 평균 수량 계산\n",
    "pivot_df = pd.pivot_table(df, \n",
    "                          index='Product', \n",
    "                          values='Quantity', \n",
    "                          aggfunc='mean').reset_index()\n",
    "print(pivot_df)"
   ]
  },
  {
   "cell_type": "code",
   "execution_count": 24,
   "id": "733975d8-c844-4563-857f-dc99c69ba8d6",
   "metadata": {},
   "outputs": [
    {
     "name": "stdout",
     "output_type": "stream",
     "text": [
      "   도시          날짜  최고 온도  최저 온도\n",
      "0  광주  2024-06-01     29     19\n",
      "1  대구  2024-06-01     32     21\n",
      "2  서울  2024-06-02     30     20\n"
     ]
    }
   ],
   "source": [
    "# 3번 문제\n",
    "import pandas as pd\n",
    "\n",
    "# 데이터 생성\n",
    "data = {\n",
    "    '도시': ['서울', '서울', '대구', '광주'],\n",
    "    '날짜': ['2024-06-01', '2024-06-02', '2024-06-01', '2024-06-01'],\n",
    "    '최고 온도': [28, 30, 32, 29],\n",
    "    '최저 온도': [18, 20, 21, 19]\n",
    "}\n",
    "\n",
    "df = pd.DataFrame(data)\n",
    "\n",
    "# groupby와 idxmax를 사용하여 각 도시별 최고 온도가 가장 높은 행의 인덱스를 찾기\n",
    "idx = df.groupby('도시')['최고 온도'].idxmax()\n",
    "\n",
    "# 해당 인덱스를 사용하여 원래 데이터프레임에서 행을 선택\n",
    "result = df.loc[idx].reset_index(drop=True)\n",
    "print(result)\n"
   ]
  },
  {
   "cell_type": "code",
   "execution_count": 37,
   "id": "f965e71a-d213-45ef-bfcd-2e54bae61bc6",
   "metadata": {},
   "outputs": [
    {
     "name": "stdout",
     "output_type": "stream",
     "text": [
      "          날짜   종가\n",
      "0 2024-06-01  100\n",
      "1 2024-06-02  102\n",
      "2 2024-06-03  101\n",
      "3 2024-06-04  105\n",
      "4 2024-06-05  107\n"
     ]
    },
    {
     "data": {
      "text/html": [
       "<div>\n",
       "<style scoped>\n",
       "    .dataframe tbody tr th:only-of-type {\n",
       "        vertical-align: middle;\n",
       "    }\n",
       "\n",
       "    .dataframe tbody tr th {\n",
       "        vertical-align: top;\n",
       "    }\n",
       "\n",
       "    .dataframe thead th {\n",
       "        text-align: right;\n",
       "    }\n",
       "</style>\n",
       "<table border=\"1\" class=\"dataframe\">\n",
       "  <thead>\n",
       "    <tr style=\"text-align: right;\">\n",
       "      <th></th>\n",
       "      <th>날짜</th>\n",
       "      <th>종가</th>\n",
       "      <th>2일 이동 합계</th>\n",
       "    </tr>\n",
       "  </thead>\n",
       "  <tbody>\n",
       "    <tr>\n",
       "      <th>0</th>\n",
       "      <td>2024-06-01</td>\n",
       "      <td>100</td>\n",
       "      <td>NaN</td>\n",
       "    </tr>\n",
       "    <tr>\n",
       "      <th>1</th>\n",
       "      <td>2024-06-02</td>\n",
       "      <td>102</td>\n",
       "      <td>202.0</td>\n",
       "    </tr>\n",
       "    <tr>\n",
       "      <th>2</th>\n",
       "      <td>2024-06-03</td>\n",
       "      <td>101</td>\n",
       "      <td>203.0</td>\n",
       "    </tr>\n",
       "    <tr>\n",
       "      <th>3</th>\n",
       "      <td>2024-06-04</td>\n",
       "      <td>105</td>\n",
       "      <td>206.0</td>\n",
       "    </tr>\n",
       "    <tr>\n",
       "      <th>4</th>\n",
       "      <td>2024-06-05</td>\n",
       "      <td>107</td>\n",
       "      <td>212.0</td>\n",
       "    </tr>\n",
       "  </tbody>\n",
       "</table>\n",
       "</div>"
      ],
      "text/plain": [
       "          날짜   종가  2일 이동 합계\n",
       "0 2024-06-01  100       NaN\n",
       "1 2024-06-02  102     202.0\n",
       "2 2024-06-03  101     203.0\n",
       "3 2024-06-04  105     206.0\n",
       "4 2024-06-05  107     212.0"
      ]
     },
     "execution_count": 37,
     "metadata": {},
     "output_type": "execute_result"
    }
   ],
   "source": [
    "# 4번 문제\n",
    "import pandas as pd \n",
    "\n",
    "# 주어진 데이터프레임 \n",
    "data = {\n",
    "    '날짜': ['2024-06-01', '2024-06-02', '2024-06-03', '2024-06-04', '2024-06-05'],\n",
    "    '종가': [100, 102, 101, 105, 107] } \n",
    "\n",
    "df = pd.DataFrame(data)\n",
    "\n",
    "# '날짜' 열의 데이터를 datetime 형식으로 변환\n",
    "df['날짜'] = pd.to_datetime(df['날짜'])\n",
    "\n",
    "# '날짜' 열을 인덱스로 설정\n",
    "df.set_index('날짜', inplace=False)\n",
    "print(df)\n",
    "\n",
    "# '2일 이동 합계' 열 추가\n",
    "df['2일 이동 합계'] = df['종가'].rolling(window=2).sum()\n",
    "\n",
    "df"
   ]
  },
  {
   "cell_type": "code",
   "execution_count": 40,
   "id": "c958a1df-0555-40f8-8ff2-6b01745ca876",
   "metadata": {},
   "outputs": [
    {
     "name": "stdout",
     "output_type": "stream",
     "text": [
      "  City     대구     서울     인천\n",
      "0   서울  False   True  False\n",
      "1   대구   True  False  False\n",
      "2   인천  False  False   True\n",
      "3   서울  False   True  False\n",
      "4   대구   True  False  False\n",
      "5   서울  False   True  False\n"
     ]
    }
   ],
   "source": [
    "# 8번 문제\n",
    "import pandas as pd\n",
    "\n",
    "cities = ['서울', '대구', '인천', '서울', '대구', '서울'] \n",
    "df = pd.DataFrame(cities, columns=['City']) \n",
    "encoded = pd.get_dummies(df['City'])\n",
    "df_encoded = pd.concat([df, encoded], axis=1) \n",
    "\n",
    "print(df_encoded)"
   ]
  },
  {
   "cell_type": "code",
   "execution_count": 43,
   "id": "25b0373e-84b9-4a1c-9103-cc30cbcb8095",
   "metadata": {},
   "outputs": [
    {
     "name": "stdout",
     "output_type": "stream",
     "text": [
      "   OrderID CustomerID Product  Quantity\n",
      "0        1         C1       A        10\n",
      "1        2         C2       B        15\n",
      "2        3         C3       A        10\n",
      "3        4         C4       B        20\n",
      "CustomerID  Product\n",
      "C1          A          10\n",
      "            B           0\n",
      "C2          A           0\n",
      "            B          15\n",
      "C3          A          10\n",
      "            B           0\n",
      "C4          A           0\n",
      "            B          20\n",
      "dtype: int64\n"
     ]
    }
   ],
   "source": [
    "# 9번 문제\n",
    "import pandas as pd\n",
    "\n",
    "# 예제 데이터프레임 생성\n",
    "data = {\n",
    "    'OrderID': [1, 2, 3, 4],\n",
    "    'CustomerID': ['C1', 'C2', 'C3', 'C4'],\n",
    "    'Product': ['A', 'B', 'A', 'B'],\n",
    "    'Quantity': [10, 15, 10, 20]\n",
    "}\n",
    "df = pd.DataFrame(data)\n",
    "print(df)\n",
    "\n",
    "# pivot_table을 사용하여 CustomerID와 Product별 총 구매 수량 계산\n",
    "pivot_df = df.pivot_table(values='Quantity', index='CustomerID', columns='Product', aggfunc='sum', fill_value=0)\n",
    "\n",
    "# stack을 사용하여 MultiIndex Series로 변환\n",
    "stacked_df = pivot_df.stack()\n",
    "\n",
    "# 결과 출력\n",
    "print(stacked_df)\n"
   ]
  },
  {
   "cell_type": "code",
   "execution_count": null,
   "id": "9642bf83-d1be-41c1-a0e0-c45556f8a052",
   "metadata": {},
   "outputs": [],
   "source": []
  }
 ],
 "metadata": {
  "kernelspec": {
   "display_name": "Python 3 (ipykernel)",
   "language": "python",
   "name": "python3"
  },
  "language_info": {
   "codemirror_mode": {
    "name": "ipython",
    "version": 3
   },
   "file_extension": ".py",
   "mimetype": "text/x-python",
   "name": "python",
   "nbconvert_exporter": "python",
   "pygments_lexer": "ipython3",
   "version": "3.12.1"
  }
 },
 "nbformat": 4,
 "nbformat_minor": 5
}
