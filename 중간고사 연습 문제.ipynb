{
 "cells": [
  {
   "cell_type": "code",
   "execution_count": 9,
   "id": "12ca0572-21ba-4850-bcdd-6c798a55ae02",
   "metadata": {},
   "outputs": [
    {
     "name": "stdout",
     "output_type": "stream",
     "text": [
      "   이름  나이  성별\n",
      "0  철수  25  남자\n",
      "1  영희  30  여자\n",
      "2  민수  22  남자\n",
      "3  지영  28  여자\n"
     ]
    }
   ],
   "source": [
    "# 중간고사 연습문제 9번\n",
    "import pandas as pd\n",
    "data = pd.DataFrame({'이름' : ['철수','영희','민수','지영'],\n",
    "                     '나이' : [25,30,22,28],\n",
    "                     '성별' : ['남자','여자','남자','여자']})\n",
    "print(data)"
   ]
  },
  {
   "cell_type": "code",
   "execution_count": 40,
   "id": "c7e8b113-104d-4c9d-ab1d-67c3c8e99039",
   "metadata": {},
   "outputs": [
    {
     "data": {
      "text/html": [
       "<div>\n",
       "<style scoped>\n",
       "    .dataframe tbody tr th:only-of-type {\n",
       "        vertical-align: middle;\n",
       "    }\n",
       "\n",
       "    .dataframe tbody tr th {\n",
       "        vertical-align: top;\n",
       "    }\n",
       "\n",
       "    .dataframe thead th {\n",
       "        text-align: right;\n",
       "    }\n",
       "</style>\n",
       "<table border=\"1\" class=\"dataframe\">\n",
       "  <thead>\n",
       "    <tr style=\"text-align: right;\">\n",
       "      <th></th>\n",
       "      <th>col1</th>\n",
       "      <th>col2</th>\n",
       "    </tr>\n",
       "  </thead>\n",
       "  <tbody>\n",
       "    <tr>\n",
       "      <th>0</th>\n",
       "      <td>a</td>\n",
       "      <td>1</td>\n",
       "    </tr>\n",
       "    <tr>\n",
       "      <th>1</th>\n",
       "      <td>b</td>\n",
       "      <td>2</td>\n",
       "    </tr>\n",
       "  </tbody>\n",
       "</table>\n",
       "</div>"
      ],
      "text/plain": [
       "  col1  col2\n",
       "0    a     1\n",
       "1    b     2"
      ]
     },
     "execution_count": 40,
     "metadata": {},
     "output_type": "execute_result"
    }
   ],
   "source": [
    "# 중간고사 연습문제 10번\n",
    "import pandas as pd\n",
    "df = pd.DataFrame({'col1' : ['a','b','c'],\n",
    "                     'col2' : [1,2,3]})\n",
    "\n",
    "df.loc[:1, 'col1':'col2'] # :1 -> 처음부터 1번째 행까지 출력"
   ]
  },
  {
   "cell_type": "code",
   "execution_count": null,
   "id": "3790993b-cef5-41d3-818e-38c26635a21f",
   "metadata": {},
   "outputs": [],
   "source": [
    "# 중간고사 연습문제 11번\n",
    "이건 답이 뭘까"
   ]
  },
  {
   "cell_type": "code",
   "execution_count": 42,
   "id": "fa224c60-cdc1-4963-92cd-dc8f2b834d9d",
   "metadata": {},
   "outputs": [
    {
     "data": {
      "text/html": [
       "<div>\n",
       "<style scoped>\n",
       "    .dataframe tbody tr th:only-of-type {\n",
       "        vertical-align: middle;\n",
       "    }\n",
       "\n",
       "    .dataframe tbody tr th {\n",
       "        vertical-align: top;\n",
       "    }\n",
       "\n",
       "    .dataframe thead th {\n",
       "        text-align: right;\n",
       "    }\n",
       "</style>\n",
       "<table border=\"1\" class=\"dataframe\">\n",
       "  <thead>\n",
       "    <tr style=\"text-align: right;\">\n",
       "      <th></th>\n",
       "      <th>col1</th>\n",
       "      <th>col2</th>\n",
       "      <th>col3</th>\n",
       "      <th>col4</th>\n",
       "    </tr>\n",
       "  </thead>\n",
       "  <tbody>\n",
       "    <tr>\n",
       "      <th>0</th>\n",
       "      <td>a</td>\n",
       "      <td>1</td>\n",
       "      <td>a</td>\n",
       "      <td>10</td>\n",
       "    </tr>\n",
       "    <tr>\n",
       "      <th>1</th>\n",
       "      <td>b</td>\n",
       "      <td>2</td>\n",
       "      <td>b</td>\n",
       "      <td>20</td>\n",
       "    </tr>\n",
       "    <tr>\n",
       "      <th>2</th>\n",
       "      <td>c</td>\n",
       "      <td>3</td>\n",
       "      <td>f</td>\n",
       "      <td>30</td>\n",
       "    </tr>\n",
       "  </tbody>\n",
       "</table>\n",
       "</div>"
      ],
      "text/plain": [
       "  col1  col2 col3  col4\n",
       "0    a     1    a    10\n",
       "1    b     2    b    20\n",
       "2    c     3    f    30"
      ]
     },
     "execution_count": 42,
     "metadata": {},
     "output_type": "execute_result"
    }
   ],
   "source": [
    "########### 중간고사 연습문제 12번\n",
    "import pandas as pd\n",
    "df1 = pd.DataFrame({'col1' : ['a','b','c'],\n",
    "                  'col2' : [1,2,3]})\n",
    "\n",
    "df2 = pd.DataFrame({'col3' : ['a','b','f'],\n",
    "                  'col4' : [10,20,30]})\n",
    "\n",
    "pd.merge(df1, df2, right_index = True, left_index = True)\n"
   ]
  },
  {
   "cell_type": "code",
   "execution_count": 55,
   "id": "be93e8ba-1bb1-4847-bd9e-a69682511c14",
   "metadata": {},
   "outputs": [
    {
     "name": "stdout",
     "output_type": "stream",
     "text": [
      "  name  score\n",
      "1   영희     88\n",
      "2   민수     92\n"
     ]
    }
   ],
   "source": [
    "# 중간고사 연습문제 13번\n",
    "import pandas as ps\n",
    "df = pd.DataFrame({'name': [\"철수\", \"영희\", \"민수\", \"지영\"],\n",
    "                 'score': [75,88,92,68,]})\n",
    "\n",
    "df1 = df[df['score'] > 80]\n",
    "print(df1)"
   ]
  },
  {
   "cell_type": "code",
   "execution_count": 59,
   "id": "7a054cd5-c540-4ac4-a180-66338c514989",
   "metadata": {},
   "outputs": [
    {
     "name": "stdout",
     "output_type": "stream",
     "text": [
      "    name  score\n",
      "0  False  False\n",
      "1  False  False\n",
      "2   True   True\n",
      "3  False  False\n"
     ]
    }
   ],
   "source": [
    "# 중간고사 연습문제 14번\n",
    "import pandas as pd\n",
    "data = {'name': [\"철수\",\"영희\",None,\"지영\"], 'score':[75, 88, None, 68]}\n",
    "df = pd.DataFrame(data)\n",
    "result = df.isna() # 결측치가 있는지 없는지 확인\n",
    "print(result)"
   ]
  },
  {
   "cell_type": "code",
   "execution_count": 96,
   "id": "a09bcbea-efb1-4290-93a8-96738a42cb31",
   "metadata": {},
   "outputs": [
    {
     "name": "stdout",
     "output_type": "stream",
     "text": [
      "  name  score\n",
      "0   철수     75\n",
      "1   영희     88\n",
      "2   민수     92\n"
     ]
    },
    {
     "data": {
      "text/html": [
       "<div>\n",
       "<style scoped>\n",
       "    .dataframe tbody tr th:only-of-type {\n",
       "        vertical-align: middle;\n",
       "    }\n",
       "\n",
       "    .dataframe tbody tr th {\n",
       "        vertical-align: top;\n",
       "    }\n",
       "\n",
       "    .dataframe thead th {\n",
       "        text-align: right;\n",
       "    }\n",
       "</style>\n",
       "<table border=\"1\" class=\"dataframe\">\n",
       "  <thead>\n",
       "    <tr style=\"text-align: right;\">\n",
       "      <th></th>\n",
       "      <th>score</th>\n",
       "    </tr>\n",
       "  </thead>\n",
       "  <tbody>\n",
       "    <tr>\n",
       "      <th>count</th>\n",
       "      <td>3.000000</td>\n",
       "    </tr>\n",
       "    <tr>\n",
       "      <th>mean</th>\n",
       "      <td>85.000000</td>\n",
       "    </tr>\n",
       "    <tr>\n",
       "      <th>std</th>\n",
       "      <td>8.888194</td>\n",
       "    </tr>\n",
       "    <tr>\n",
       "      <th>min</th>\n",
       "      <td>75.000000</td>\n",
       "    </tr>\n",
       "    <tr>\n",
       "      <th>25%</th>\n",
       "      <td>81.500000</td>\n",
       "    </tr>\n",
       "    <tr>\n",
       "      <th>50%</th>\n",
       "      <td>88.000000</td>\n",
       "    </tr>\n",
       "    <tr>\n",
       "      <th>75%</th>\n",
       "      <td>90.000000</td>\n",
       "    </tr>\n",
       "    <tr>\n",
       "      <th>max</th>\n",
       "      <td>92.000000</td>\n",
       "    </tr>\n",
       "  </tbody>\n",
       "</table>\n",
       "</div>"
      ],
      "text/plain": [
       "           score\n",
       "count   3.000000\n",
       "mean   85.000000\n",
       "std     8.888194\n",
       "min    75.000000\n",
       "25%    81.500000\n",
       "50%    88.000000\n",
       "75%    90.000000\n",
       "max    92.000000"
      ]
     },
     "execution_count": 96,
     "metadata": {},
     "output_type": "execute_result"
    }
   ],
   "source": [
    "# 중간고사 연습문제 15번\n",
    "import pandas as pd\n",
    "data = {'name': [\"철수\",\"영희\",\"민수\"], 'score':[75, 88, 92]}\n",
    "df = pd.DataFrame(data)\n",
    "print(df)\n",
    "df.describe()"
   ]
  },
  {
   "cell_type": "code",
   "execution_count": 75,
   "id": "545961fa-502b-4557-a06b-349dd37bc0dd",
   "metadata": {},
   "outputs": [
    {
     "data": {
      "text/plain": [
       "0    5\n",
       "1    7\n",
       "2    9\n",
       "dtype: int64"
      ]
     },
     "execution_count": 75,
     "metadata": {},
     "output_type": "execute_result"
    }
   ],
   "source": [
    "# 중간고사 연습문제 16번\n",
    "import pandas as pd\n",
    "data = {'col1': [1,2,3], 'col2':[4,5,6]}\n",
    "df = pd.DataFrame(data)\n",
    "\n",
    "df.apply(lambda row: row['col1']+ row['col2'], axis=\"columns\")"
   ]
  },
  {
   "cell_type": "code",
   "execution_count": 80,
   "id": "f63cd532-d976-42ac-9054-6984cecb4e71",
   "metadata": {},
   "outputs": [
    {
     "name": "stdout",
     "output_type": "stream",
     "text": [
      "  name  score\n",
      "0   철수     75\n",
      "1   영희     88\n",
      "2   민수     92\n",
      "0   지영     68\n",
      "1   다현     95\n"
     ]
    }
   ],
   "source": [
    "# 중간고사 연습문제 17번 (23번이랑 같은 유형)\n",
    "import pandas as pd\n",
    "df1 = pd.DataFrame({'name': [\"철수\",\"영희\",\"민수\"], 'score':[75,88,92]})\n",
    "df2 = pd.DataFrame({'name': [\"지영\",\"다현\"], 'score':[68,95]})\n",
    "df3 = pd.concat([df1,df2], axis=0)\n",
    "print(df3)"
   ]
  },
  {
   "cell_type": "code",
   "execution_count": 86,
   "id": "efaea1e5-7859-44ea-8364-d2010d2dad3a",
   "metadata": {},
   "outputs": [
    {
     "name": "stdout",
     "output_type": "stream",
     "text": [
      "  name  score  attendence_rate\n",
      "0   철수     75               80\n",
      "1   영희     88               90\n"
     ]
    }
   ],
   "source": [
    "# 중간고사 연습문제 18번\n",
    "import pandas as pd\n",
    "df1 = pd.DataFrame({'name': [\"철수\",\"영희\",\"민수\"], 'score':[75,88,92]})\n",
    "df2 = pd.DataFrame({'name': [\"영희\",\"철수\",\"지영\",\"다현\"], 'attendence_rate':[90,80,95,85]})\n",
    "df3 = pd.merge(df1, df2, on='name', how='inner') \n",
    "print(df3)\n",
    "# inner: 이 옵션은 두 데이터프레임에서 공통된 키(열)를 기준으로 내부 결합을 수행\n",
    "# outer: 외부 결합은 두 데이터프레임의 모든 행을 병합합니다. 공통된 키(열)가 있는 경우 해당 행을 병합하고, 한 쪽에만 있는 행은 결합되는 쪽에 결측치(null 또는 NaN 값)로 채워집니다.\n",
    "# left: 이 옵션은 첫 번째 데이터프레임에 있는 모든 행을 유지하면서, 두 번째 데이터프레임과 공통된 키(열)가 있는 경우에만 해당 행을 병합\n",
    "# right: 이 옵션은 왼쪽과 반대로 두 번째 데이터프레임에 있는 모든 행을 유지하면서, 첫 번째 데이터프레임과 공통된 키(열)가 있는 경우에만 해당 행을 병합"
   ]
  },
  {
   "cell_type": "code",
   "execution_count": 88,
   "id": "4ec57858-245c-4fc5-9168-c257dbf6b322",
   "metadata": {},
   "outputs": [],
   "source": [
    "# 중간고사 22번 문제\n",
    "import pandas as pd\n",
    "\n",
    "# 주어진 딕셔너리 데이터\n",
    "data = {\n",
    "    '이름': ['철수', '영희', '민수', '지영'],\n",
    "    '나이': [25, 30, 22, 28],\n",
    "    '성별': ['남자', '여자', '남자', '여자']\n",
    "}\n",
    "\n",
    "# DataFrame 생성\n",
    "df = pd.DataFrame(data)\n",
    "\n",
    "# CSV 파일로 저장\n",
    "df.to_csv('data.csv', index=False)  # index=False를 설정하여 인덱스를 저장하지 않습니다.\n",
    "\n",
    "# JSON 파일로 저장\n",
    "df.to_json('data.json', orient='records')  # orient='records'를 설정하여 레코드 단위로 저장합니다.\n"
   ]
  },
  {
   "cell_type": "code",
   "execution_count": 87,
   "id": "c4f3096b-7d94-4031-be80-218e0cb5e3d4",
   "metadata": {},
   "outputs": [
    {
     "name": "stdout",
     "output_type": "stream",
     "text": [
      "    A   B   A   B\n",
      "0  a0  b0  a3  b3\n",
      "1  a1  b1  a4  b4\n",
      "2  a2  b2  a5  b5\n"
     ]
    }
   ],
   "source": [
    "# 중간고사 연습문제 23번 (17번이랑 같은 유형)\n",
    "import pandas as pd\n",
    "df3 = pd.DataFrame({\"A\":[\"a0\",\"a1\",\"a2\"],\n",
    "                    \"B\": [\"b0\",\"b1\",\"b2\"]})\n",
    "\n",
    "df4 = pd.DataFrame({\"A\":[\"a3\",\"a4\",\"a5\"],\n",
    "                    \"B\": [\"b3\",\"b4\",\"b5\"]})\n",
    "\n",
    "#print(df3,\"\\n\\n\", df4)\n",
    "\n",
    "result = pd.concat([df3,df4], axis=0) # 수직으로 이어붙이기\n",
    "result = pd.concat([df3,df4], axis=1) # 수평으로 이어붙이기\n",
    "print(result)"
   ]
  },
  {
   "cell_type": "code",
   "execution_count": 92,
   "id": "19141618-fba5-443a-bd90-4dc94d4533d1",
   "metadata": {},
   "outputs": [
    {
     "name": "stdout",
     "output_type": "stream",
     "text": [
      "  key   A\n",
      "0  K0  A0\n",
      "1  K1  A1\n",
      "2  K2  A2\n",
      "  key   B\n",
      "0  K0  B0\n",
      "1  K1  B1\n",
      "2  K2  B2\n",
      "  key   A   B\n",
      "0  K0  A0  B0\n",
      "1  K1  A1  B1\n",
      "2  K2  A2  B2\n"
     ]
    }
   ],
   "source": [
    "# 중간고사 연습문제 24번\n",
    "import pandas as pd\n",
    "# 두 개의 데이터프레임 생성\n",
    "left = pd.DataFrame({'key': ['K0', 'K1', 'K2'],\n",
    "'A': ['A0', 'A1', 'A2']})\n",
    "right = pd.DataFrame({'key': ['K0', 'K1', 'K2'], 'B': ['B0', 'B1', 'B2']})\n",
    "\n",
    "result = pd.merge(left, right, on='key', how='inner')\n",
    "print(left)\n",
    "print(right)\n",
    "\n",
    "print(result)"
   ]
  },
  {
   "cell_type": "code",
   "execution_count": 129,
   "id": "2a3ce6c5-3baa-4bd2-8532-7aada8947b75",
   "metadata": {},
   "outputs": [
    {
     "name": "stdout",
     "output_type": "stream",
     "text": [
      "   이름  성적\n",
      "0  철수  80\n",
      "1  영희  75\n",
      "2  민수  90\n",
      "3  지영  85\n",
      "\n",
      "   이름  성적\n",
      "0  민수  90\n",
      "1  영희  75\n",
      "2  지영  85\n",
      "3  철수  80\n"
     ]
    }
   ],
   "source": [
    "import pandas as pd\n",
    "\n",
    "# 학생들의 성적을 담은 데이터프레임 df 생성\n",
    "df = pd.DataFrame({'이름': ['철수', '영희', '민수'],\n",
    "                   '성적': [80, 75, 90]})\n",
    "\n",
    "# 지영의 성적을 담은 데이터프레임 생성\n",
    "new_student = pd.DataFrame({'이름': ['지영'], '성적': [85]}, index=[len(df)])\n",
    "\n",
    "# concat() 함수를 사용하여 데이터프레임 df와 새로운 데이터프레임 new_student를 수직으로 결합\n",
    "result1 = pd.concat([df, new_student])\n",
    "\n",
    "# merge() 함수를 사용하여 데이터프레임 병합\n",
    "result2 = pd.merge(df, new_student, how='outer')\n",
    "\n",
    "print(result1)\n",
    "print()\n",
    "print(result2)"
   ]
  },
  {
   "cell_type": "code",
   "execution_count": null,
   "id": "feb422da-a63f-42fa-b9b1-971e624e5f56",
   "metadata": {},
   "outputs": [],
   "source": []
  }
 ],
 "metadata": {
  "kernelspec": {
   "display_name": "Python 3 (ipykernel)",
   "language": "python",
   "name": "python3"
  },
  "language_info": {
   "codemirror_mode": {
    "name": "ipython",
    "version": 3
   },
   "file_extension": ".py",
   "mimetype": "text/x-python",
   "name": "python",
   "nbconvert_exporter": "python",
   "pygments_lexer": "ipython3",
   "version": "3.12.1"
  }
 },
 "nbformat": 4,
 "nbformat_minor": 5
}
