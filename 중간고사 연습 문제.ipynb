{
 "cells": [
  {
   "cell_type": "code",
   "execution_count": 9,
   "id": "12ca0572-21ba-4850-bcdd-6c798a55ae02",
   "metadata": {},
   "outputs": [
    {
     "name": "stdout",
     "output_type": "stream",
     "text": [
      "   이름  나이  성별\n",
      "0  철수  25  남자\n",
      "1  영희  30  여자\n",
      "2  민수  22  남자\n",
      "3  지영  28  여자\n"
     ]
    }
   ],
   "source": [
    "# 중간고사 연습문제 9번\n",
    "import pandas as pd\n",
    "data = pd.DataFrame({'이름' : ['철수','영희','민수','지영'],\n",
    "                     '나이' : [25,30,22,28],\n",
    "                     '성별' : ['남자','여자','남자','여자']})\n",
    "print(data)"
   ]
  },
  {
   "cell_type": "code",
   "execution_count": 40,
   "id": "c7e8b113-104d-4c9d-ab1d-67c3c8e99039",
   "metadata": {},
   "outputs": [
    {
     "data": {
      "text/html": [
       "<div>\n",
       "<style scoped>\n",
       "    .dataframe tbody tr th:only-of-type {\n",
       "        vertical-align: middle;\n",
       "    }\n",
       "\n",
       "    .dataframe tbody tr th {\n",
       "        vertical-align: top;\n",
       "    }\n",
       "\n",
       "    .dataframe thead th {\n",
       "        text-align: right;\n",
       "    }\n",
       "</style>\n",
       "<table border=\"1\" class=\"dataframe\">\n",
       "  <thead>\n",
       "    <tr style=\"text-align: right;\">\n",
       "      <th></th>\n",
       "      <th>col1</th>\n",
       "      <th>col2</th>\n",
       "    </tr>\n",
       "  </thead>\n",
       "  <tbody>\n",
       "    <tr>\n",
       "      <th>0</th>\n",
       "      <td>a</td>\n",
       "      <td>1</td>\n",
       "    </tr>\n",
       "    <tr>\n",
       "      <th>1</th>\n",
       "      <td>b</td>\n",
       "      <td>2</td>\n",
       "    </tr>\n",
       "  </tbody>\n",
       "</table>\n",
       "</div>"
      ],
      "text/plain": [
       "  col1  col2\n",
       "0    a     1\n",
       "1    b     2"
      ]
     },
     "execution_count": 40,
     "metadata": {},
     "output_type": "execute_result"
    }
   ],
   "source": [
    "# 중간고사 연습문제 10번\n",
    "import pandas as pd\n",
    "df = pd.DataFrame({'col1' : ['a','b','c'],\n",
    "                     'col2' : [1,2,3]})\n",
    "\n",
    "df.loc[:1, 'col1':'col2'] # :1 -> 처음부터 1번째 행까지 출력"
   ]
  },
  {
   "cell_type": "code",
   "execution_count": null,
   "id": "3790993b-cef5-41d3-818e-38c26635a21f",
   "metadata": {},
   "outputs": [],
   "source": [
    "# 중간고사 연습문제 11번\n"
   ]
  },
  {
   "cell_type": "code",
   "execution_count": 42,
   "id": "fa224c60-cdc1-4963-92cd-dc8f2b834d9d",
   "metadata": {},
   "outputs": [
    {
     "data": {
      "text/html": [
       "<div>\n",
       "<style scoped>\n",
       "    .dataframe tbody tr th:only-of-type {\n",
       "        vertical-align: middle;\n",
       "    }\n",
       "\n",
       "    .dataframe tbody tr th {\n",
       "        vertical-align: top;\n",
       "    }\n",
       "\n",
       "    .dataframe thead th {\n",
       "        text-align: right;\n",
       "    }\n",
       "</style>\n",
       "<table border=\"1\" class=\"dataframe\">\n",
       "  <thead>\n",
       "    <tr style=\"text-align: right;\">\n",
       "      <th></th>\n",
       "      <th>col1</th>\n",
       "      <th>col2</th>\n",
       "      <th>col3</th>\n",
       "      <th>col4</th>\n",
       "    </tr>\n",
       "  </thead>\n",
       "  <tbody>\n",
       "    <tr>\n",
       "      <th>0</th>\n",
       "      <td>a</td>\n",
       "      <td>1</td>\n",
       "      <td>a</td>\n",
       "      <td>10</td>\n",
       "    </tr>\n",
       "    <tr>\n",
       "      <th>1</th>\n",
       "      <td>b</td>\n",
       "      <td>2</td>\n",
       "      <td>b</td>\n",
       "      <td>20</td>\n",
       "    </tr>\n",
       "    <tr>\n",
       "      <th>2</th>\n",
       "      <td>c</td>\n",
       "      <td>3</td>\n",
       "      <td>f</td>\n",
       "      <td>30</td>\n",
       "    </tr>\n",
       "  </tbody>\n",
       "</table>\n",
       "</div>"
      ],
      "text/plain": [
       "  col1  col2 col3  col4\n",
       "0    a     1    a    10\n",
       "1    b     2    b    20\n",
       "2    c     3    f    30"
      ]
     },
     "execution_count": 42,
     "metadata": {},
     "output_type": "execute_result"
    }
   ],
   "source": [
    "# 중간고사 연습문제 12번\n",
    "import pandas as pd\n",
    "df1 = pd.DataFrame({'col1' : ['a','b','c'],\n",
    "                  'col2' : [1,2,3]})\n",
    "\n",
    "df2 = pd.DataFrame({'col3' : ['a','b','f'],\n",
    "                  'col4' : [10,20,30]})\n",
    "\n",
    "pd.merge(df1, df2, right_index = True, left_index = True)\n"
   ]
  },
  {
   "cell_type": "code",
   "execution_count": 34,
   "id": "c4f3096b-7d94-4031-be80-218e0cb5e3d4",
   "metadata": {},
   "outputs": [
    {
     "name": "stdout",
     "output_type": "stream",
     "text": [
      "    A   B\n",
      "0  a0  b0\n",
      "1  a1  b1\n",
      "2  a2  b2\n",
      "0  a3  b3\n",
      "1  a4  b4\n",
      "2  a5  b5\n"
     ]
    }
   ],
   "source": [
    "# 중간고사 연습문제 23번\n",
    "import pandas as pd\n",
    "df3 = pd.DataFrame({\"A\":[\"a0\",\"a1\",\"a2\"],\n",
    "                    \"B\": [\"b0\",\"b1\",\"b2\"]})\n",
    "\n",
    "df4 = pd.DataFrame({\"A\":[\"a3\",\"a4\",\"a5\"],\n",
    "                    \"B\": [\"b3\",\"b4\",\"b5\"]})\n",
    "\n",
    "#print(df3,\"\\n\\n\", df4)\n",
    "\n",
    "result = pd.concat([df3,df4], axis=0) # 수직으로 이어붙이기\n",
    "# result = pd.concat([df3,df4], axis=1) # 수평으로 이어붙이기\n",
    "print(result)"
   ]
  },
  {
   "cell_type": "code",
   "execution_count": null,
   "id": "19141618-fba5-443a-bd90-4dc94d4533d1",
   "metadata": {},
   "outputs": [],
   "source": []
  }
 ],
 "metadata": {
  "kernelspec": {
   "display_name": "Python 3 (ipykernel)",
   "language": "python",
   "name": "python3"
  },
  "language_info": {
   "codemirror_mode": {
    "name": "ipython",
    "version": 3
   },
   "file_extension": ".py",
   "mimetype": "text/x-python",
   "name": "python",
   "nbconvert_exporter": "python",
   "pygments_lexer": "ipython3",
   "version": "3.12.1"
  }
 },
 "nbformat": 4,
 "nbformat_minor": 5
}
